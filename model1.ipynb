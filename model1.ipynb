{
 "cells": [
  {
   "cell_type": "markdown",
   "metadata": {},
   "source": [
    "# Model 1\n",
    "\n",
    "XGB Boost Model"
   ]
  },
  {
   "cell_type": "code",
   "execution_count": null,
   "metadata": {},
   "outputs": [],
   "source": [
    "! pip install -r requirements.txt"
   ]
  },
  {
   "cell_type": "code",
   "execution_count": null,
   "metadata": {},
   "outputs": [],
   "source": [
    "#\n",
    "# basics\n",
    "import pandas as pd\n",
    "import numpy as np\n",
    "\n",
    "# plotting\n",
    "import matplotlib.pyplot as plt\n",
    "import seaborn as sns\n",
    "sns.set_style('white')\n",
    "sns.set_palette('magma')\n",
    "from sklearn.model_selection import train_test_split\n",
    "import missingno as msno\n",
    "from sklearn.model_selection import RandomizedSearchCV, GridSearchCV\n",
    "from sklearn.metrics import mean_absolute_error\n",
    "\n",
    "\n",
    "# warnings\n",
    "import warnings\n",
    "warnings.filterwarnings('ignore')\n",
    "\n",
    "RSEED = 42"
   ]
  },
  {
   "cell_type": "markdown",
   "metadata": {},
   "source": [
    "# EDA"
   ]
  },
  {
   "cell_type": "code",
   "execution_count": null,
   "metadata": {},
   "outputs": [],
   "source": [
    "# load training data\n",
    "df = pd.read_csv('data/Train.csv')"
   ]
  },
  {
   "cell_type": "code",
   "execution_count": null,
   "metadata": {},
   "outputs": [],
   "source": [
    "import matplotlib.pyplot as plt\n",
    "def plot_nas(df: pd.DataFrame):\n",
    "    if df.isnull().sum().sum() != 0:\n",
    "        na_df = (df.isnull().sum() / len(df)) * 100      \n",
    "        na_df = na_df.drop(na_df[na_df == 0].index).sort_values(ascending=False)\n",
    "        missing_data = pd.DataFrame({'Missing Ratio %' :na_df})\n",
    "        missing_data.plot(kind = \"barh\")\n",
    "        plt.show()\n",
    "    else:\n",
    "        print('No NAs found')\n",
    "plot_nas(df)\n",
    "plot_width, plot_height = (15,15)\n",
    "plt.rcParams['figure.figsize'] = (plot_width,plot_height)\n",
    "plt.rcParams['ytick.labelsize'] = 9"
   ]
  },
  {
   "cell_type": "code",
   "execution_count": null,
   "metadata": {},
   "outputs": [],
   "source": [
    "# drop columns with more than 50% missing values\n",
    "check_ch4 = [col for col in df.columns if 'CH4' in col]\n",
    "df.drop(columns=check_ch4, axis=1, inplace=True)\n",
    "\n",
    "# Convert to datetime\n",
    "df[\"Date\"] = pd.to_datetime(df[\"Date\"])\n",
    "\n",
    "# Create integer column for weekends\n",
    "df[\"IsWeek\"] = (df[\"Date\"].dt.weekday < 5).astype(int)\n",
    "\n",
    "df.drop(columns=['Date', 'Place_ID', 'Place_ID X Date', 'target_min', 'target_max', 'target_variance', 'target_count'], axis=1, inplace=True)\n",
    "\n",
    "df.head(5)"
   ]
  },
  {
   "cell_type": "code",
   "execution_count": null,
   "metadata": {},
   "outputs": [],
   "source": [
    "msno.matrix(df.query('IsWeek == 1'), fontsize=10,labels=True)"
   ]
  },
  {
   "cell_type": "code",
   "execution_count": null,
   "metadata": {},
   "outputs": [],
   "source": [
    "msno.matrix(df.query('IsWeek == 0'), fontsize=10,labels=True)"
   ]
  },
  {
   "cell_type": "code",
   "execution_count": null,
   "metadata": {},
   "outputs": [],
   "source": [
    "#removes 0 as outliers\n",
    "variables_list_0_as_outlier = [\n",
    "    \"L3_NO2_NO2_column_number_density\",\n",
    "    \"L3_NO2_NO2_slant_column_number_density\",\n",
    "    \"L3_NO2_sensor_altitude\",\n",
    "    \"L3_NO2_tropopause_pressure\",\n",
    "    \"L3_NO2_solar_zenith_angle\",\n",
    "    \"L3_SO2_SO2_column_number_density\",\n",
    "    \"L3_SO2_SO2_column_number_density_amf\",\n",
    "    \"L3_SO2_SO2_slant_column_number_density\",\n",
    "    \"L3_SO2_solar_zenith_angle\",\n",
    "    \"L3_O3_O3_column_number_density\",\n",
    "    \"L3_O3_O3_effective_temperature\",\n",
    "    \"L3_O3_solar_zenith_angle\",\n",
    "    \"L3_CO_CO_column_number_density\",\n",
    "    \"L3_CO_sensor_altitude\",\n",
    "    \"L3_CO_solar_zenith_angle\",\n",
    "    \"L3_HCHO_solar_zenith_angle\",\n",
    "    \"L3_HCHO_tropospheric_HCHO_column_number_density_amf\"\n",
    "]\n",
    "\n",
    "df[variables_list_0_as_outlier].replace(0, np.nan, inplace=True)"
   ]
  },
  {
   "cell_type": "code",
   "execution_count": null,
   "metadata": {},
   "outputs": [],
   "source": [
    "msno.matrix(df, fontsize=10,labels=True)"
   ]
  },
  {
   "cell_type": "code",
   "execution_count": null,
   "metadata": {},
   "outputs": [],
   "source": [
    "X = df.drop(\"target\", axis=1)\n",
    "y = df.target\n",
    "\n",
    "X_train, X_test, y_train, y_test = train_test_split(X, y, test_size=0.2, random_state=RSEED)"
   ]
  },
  {
   "cell_type": "markdown",
   "metadata": {},
   "source": [
    "## Pipeline"
   ]
  },
  {
   "cell_type": "code",
   "execution_count": null,
   "metadata": {},
   "outputs": [],
   "source": [
    "# Pipeline XGBoost Regression\n",
    "\n",
    "from sklearn.impute import SimpleImputer\n",
    "from sklearn.preprocessing import  StandardScaler\n",
    "from sklearn.pipeline import Pipeline\n",
    "from sklearn.compose import ColumnTransformer\n",
    "import xgboost as xgb\n",
    "\n",
    "features = list(X.columns)\n",
    "\n",
    "num_pipeline = Pipeline([\n",
    "    ('imputer_num', SimpleImputer(strategy='median')),\n",
    "    ('std_scaler', StandardScaler())\n",
    "])\n",
    "\n",
    "preprocessor = ColumnTransformer([\n",
    "    ('num', num_pipeline, features),\n",
    "])\n",
    "\n",
    "pipe_xgbreg = Pipeline([\n",
    "    ('preprocessor', preprocessor),\n",
    "    ('xgbreg', xgb.XGBRegressor(eta = 0.1, n_estimators=50,max_depth=10, colsample_bytree=0.8,gamma=5,reg_alpha=0,reg_lambda=10 )) \n",
    "])\n",
    "\n",
    "pipe_xgbreg\n",
    "\n",
    "  "
   ]
  },
  {
   "cell_type": "code",
   "execution_count": null,
   "metadata": {},
   "outputs": [],
   "source": [
    "from sklearn.metrics import mean_squared_error, mean_absolute_error, r2_score\n",
    "\n",
    "\n",
    "pipe_xgbreg.fit(X_train, y_train)\n",
    "\n",
    "y_pred_test = pipe_xgbreg.predict(X_test)\n",
    "y_pred_train = pipe_xgbreg.predict(X_train)\n",
    "\n",
    "mse_test = mean_squared_error(y_test, y_pred_test)\n",
    "rmse_test = mse_test ** 0.5\n",
    "mae_test = mean_absolute_error(y_test, y_pred_test)\n",
    "r2_test = r2_score(y_test, y_pred_test)\n",
    "\n",
    "mse = mean_squared_error(y_train, y_pred_train)\n",
    "rmse = mse ** 0.5\n",
    "mae = mean_absolute_error(y_train, y_pred_train)\n",
    "r2 = r2_score(y_train, y_pred_train)\n",
    "              \n",
    "            \n",
    "print(f\"TEST: RMSE: {rmse_test:.2f}, MAE: {mae_test:.2f}, R²: {r2_test:.3f}\")\n",
    "print(f\"train: RMSE: {rmse:.2f}, MAE: {mae:.2f}, R²: {r2:.3f}\")"
   ]
  },
  {
   "cell_type": "markdown",
   "metadata": {},
   "source": [
    "## RandomSearch"
   ]
  },
  {
   "cell_type": "code",
   "execution_count": null,
   "metadata": {},
   "outputs": [],
   "source": [
    "# param_xgbreg = {\n",
    "#               'xgbreg__n_estimators': [30],\n",
    "#               'xgbreg__learning_rate': [0.08, 0.1, 0.14], \n",
    "#               'xgbreg__max_depth': [ 7, 8,],\n",
    "#               'xgbreg__colsample_bytree': [0.7, 0.8, 1],\n",
    "#               'xgbreg__gamma': [0.2, 0.3, 0.5],\n",
    "#               'xgbreg__reg_alpha': [0],\n",
    "#               'xgbreg__reg_lambda': [5, 10]\n",
    "#             }\n",
    "\n",
    "# random_search_xbreg = RandomizedSearchCV(pipe_xgbreg, param_distributions=param_xgbreg, cv=5, scoring='neg_mean_absolute_error', \n",
    "#                            verbose=1, n_jobs=-1, n_iter=50)\n",
    "\n",
    "# random_search_xbreg.fit(X_train, y_train)\n",
    "# random_search_xbreg.best_params_, random_search_xbreg.best_score_\n"
   ]
  },
  {
   "cell_type": "code",
   "execution_count": null,
   "metadata": {},
   "outputs": [],
   "source": [
    "# best_model = random_search_xbreg.best_estimator_\n",
    "# y_test_predicted = best_model.predict(X_test)\n",
    "# y_train_predicted = best_model.predict(X_train)\n",
    "\n",
    "# print(\"mean_absolute_error: {:.2f}\".format(mean_absolute_error(y_test, y_test_predicted)))\n",
    "# print(\"mean_absolute_error_train: {:.2f}\".format(mean_absolute_error(y_train, y_train_predicted)))\n",
    "\n"
   ]
  },
  {
   "cell_type": "markdown",
   "metadata": {},
   "source": [
    "# GRIDSEARCH Finetuning"
   ]
  },
  {
   "cell_type": "code",
   "execution_count": null,
   "metadata": {},
   "outputs": [],
   "source": [
    "# GRIDSEARCH\n",
    "\n",
    "# param_xgbreg_grid = {\n",
    "#               'xgbreg__n_estimators': [50],\n",
    "#               'xgbreg__learning_rate': [0.1], \n",
    "#               'xgbreg__max_depth': [10],\n",
    "#               'xgbreg__colsample_bytree': [ 0.8],\n",
    "#               'xgbreg__gamma': [5],\n",
    "#               'xgbreg__reg_alpha': [0],\n",
    "#               'xgbreg__reg_lambda': [10]\n",
    "#             }\n",
    "\n",
    "# grid_search_xbreg = GridSearchCV(pipe_xgbreg, param_grid=param_xgbreg_grid, cv=5, scoring='neg_mean_absolute_error', \n",
    "#                            verbose=1, n_jobs=-1)\n",
    "\n",
    "# grid_search_xbreg.fit(X_train, y_train)\n",
    "# grid_search_xbreg.best_params_, grid_search_xbreg.best_score_"
   ]
  },
  {
   "cell_type": "code",
   "execution_count": null,
   "metadata": {},
   "outputs": [],
   "source": [
    "# best_model = grid_search_xbreg.best_estimator_\n",
    "# y_test_predicted_grid = best_model.predict(X_test)\n",
    "# y_train_predicted_grid = best_model.predict(X_train)\n",
    "\n",
    "# print(\"mean_absolute_error: {:.2f}\".format(mean_absolute_error(y_test, y_test_predicted_grid)))\n",
    "# print(\"mean_absolute_error_train: {:.2f}\".format(mean_absolute_error(y_train, y_train_predicted_grid)))"
   ]
  }
 ],
 "metadata": {
  "kernelspec": {
   "display_name": ".venv",
   "language": "python",
   "name": "python3"
  },
  "language_info": {
   "codemirror_mode": {
    "name": "ipython",
    "version": 3
   },
   "file_extension": ".py",
   "mimetype": "text/x-python",
   "name": "python",
   "nbconvert_exporter": "python",
   "pygments_lexer": "ipython3",
   "version": "3.11.3"
  }
 },
 "nbformat": 4,
 "nbformat_minor": 2
}
