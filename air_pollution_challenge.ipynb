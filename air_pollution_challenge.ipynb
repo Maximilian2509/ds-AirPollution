{
 "cells": [
  {
   "cell_type": "markdown",
   "metadata": {},
   "source": [
    "# The Urban Air Pollution Challenge\n",
    "\n",
    "In this notebook we use machine learning to tackle the [Zindi Urban Air Pollution Challenge](https://zindi.africa/competitions/zindiweekendz-learning-urban-air-pollution-challenge):\n",
    "\n",
    "<blockquote> \n",
    "The objective of this challenge is to predict PM2.5 particulate matter concentration in the air every day for each city. \n",
    "\n",
    "```PM2.5``` refers to atmospheric particulate matter that have a diameter of less than 2.5 micrometers and is one of the most harmful air pollutants. ```PM2.5``` is a common measure of air quality that normally requires ground-based sensors to measure. The data covers the last three months, spanning hundreds of cities across the globe.\n",
    "\n",
    "The data comes from three main sources:\n",
    "\n",
    "- Ground-based air quality sensors. These measure the target variable (PM2.5 particle concentration). In addition to the target column (which is the daily mean concentration) there are also columns for minimum and maximum readings on that day, the variance of the readings and the total number (count) of sensor readings used to compute the target value. This data is only provided for the train set - you must predict the target variable for the test set.\n",
    "\n",
    "- The Global Forecast System (GFS) for weather data. Humidity, temperature and wind speed, which can be used as inputs for your model.\n",
    "\n",
    "- The Sentinel 5P satellite. This satellite monitors various pollutants in the atmosphere. For each pollutant, we queried the offline Level 3 (L3) datasets available in Google Earth Engine (you can read more about the individual products here: https://developers.google.com/earth-engine/datasets/catalog/sentinel-5p). For a given pollutant, for example NO2, we provide all data from the Sentinel 5P dataset for that pollutant. This includes the key measurements like NO2_column_number_density (a measure of NO2 concentration) as well as metadata like the satellite altitude. We recommend that you focus on the key measurements, either the column_number_density or the tropospheric_X_column_number_density (which measures density closer to Earth’s surface).\n",
    "\n",
    "Unfortunately, this data is not 100% complete. Some locations have no sensor readings for a particular day, and so those rows have been excluded. There are also gaps in the input data, particularly the satellite data for CH4.\n",
    "\n",
    "</blockquote>"
   ]
  },
  {
   "cell_type": "markdown",
   "metadata": {},
   "source": [
    "# Set up \n",
    "Here, we load the required packages and methods for the analyses we tried out. We also set some plotting and warning defaults, as well as a random seed for reproducibility. "
   ]
  },
  {
   "cell_type": "code",
   "execution_count": 20,
   "metadata": {},
   "outputs": [],
   "source": [
    "# Import packages and methods\n",
    "import pandas as pd\n",
    "import numpy as np\n",
    "import missingno as msno\n",
    "import matplotlib.pyplot as plt\n",
    "import seaborn as sns\n",
    "import plotly.graph_objects as go\n",
    "import warnings\n",
    "import xgboost as xgb\n",
    "from sklearn.linear_model import LinearRegression\n",
    "from sklearn.preprocessing import StandardScaler\n",
    "from sklearn.experimental import enable_iterative_imputer #to be able to load the IterativeImputer\n",
    "from sklearn.impute import SimpleImputer, IterativeImputer, KNNImputer\n",
    "from sklearn.model_selection import train_test_split, RandomizedSearchCV, GridSearchCV, cross_val_predict\n",
    "from sklearn.metrics import mean_absolute_error, mean_squared_error, r2_score\n",
    "from sklearn.pipeline import Pipeline\n",
    "from sklearn.compose import ColumnTransformer\n",
    "from scipy import stats\n",
    "\n",
    "# Set defaults\n",
    "sns.set_style('white')\n",
    "sns.set_palette('magma')\n",
    "warnings.filterwarnings('ignore')\n",
    "\n",
    "# Air quality colors\n",
    "target_cat_colors = ['#64a03c', '#eac51c', '#d67900', '#a90738', '#4f051e']\n",
    "\n",
    "# Set random seed\n",
    "RSEED = 42"
   ]
  },
  {
   "cell_type": "markdown",
   "metadata": {},
   "source": [
    "# Load training data\n",
    "The data can be downloaded from the ```data``` tab on [Zindi](https://zindi.africa/competitions/zindiweekendz-learning-urban-air-pollution-challenge). If not done so already, move the files to ```ds-airpollution\\data```. "
   ]
  },
  {
   "cell_type": "code",
   "execution_count": 6,
   "metadata": {},
   "outputs": [],
   "source": [
    "df = pd.read_csv('data/Train.csv')"
   ]
  },
  {
   "cell_type": "code",
   "execution_count": null,
   "metadata": {},
   "outputs": [],
   "source": [
    "# Convert to datetime\n",
    "df[\"Date\"] = pd.to_datetime(df[\"Date\"])\n",
    "\n",
    "# Create integer column for week vs. weekend (assuming traffic and industry would be much less on weekends)\n",
    "df[\"IsWeek\"] = (df[\"Date\"].dt.weekday < 5).astype(int)"
   ]
  },
  {
   "cell_type": "code",
   "execution_count": 13,
   "metadata": {},
   "outputs": [],
   "source": [
    "# Create PM2.5 air quality categories based on https://www.epa.vic.gov.au/for-community/environmental-information/air-quality/pm25-particles-in-the-air\n",
    "bins = [0, 12.5, 25, 50, 150, np.inf]\n",
    "health_cat = ['good', 'fair','poor','very poor','extremely poor']\n",
    "df['target_cat'] = pd.cut(df['target'], bins, labels = health_cat)"
   ]
  },
  {
   "cell_type": "markdown",
   "metadata": {},
   "source": [
    "# Exploratory Data Analysis (EDA)\n",
    "We start with ins and summarizing the training data. "
   ]
  },
  {
   "cell_type": "code",
   "execution_count": null,
   "metadata": {},
   "outputs": [],
   "source": [
    "#Check column names\n",
    "df.head()"
   ]
  },
  {
   "cell_type": "code",
   "execution_count": null,
   "metadata": {},
   "outputs": [],
   "source": [
    "#Check size of the data frame\n",
    "df.shape"
   ]
  },
  {
   "cell_type": "code",
   "execution_count": null,
   "metadata": {},
   "outputs": [],
   "source": [
    "#Check type of features\n",
    "df.dtypes"
   ]
  },
  {
   "cell_type": "markdown",
   "metadata": {},
   "source": [
    "# Missing data"
   ]
  },
  {
   "cell_type": "code",
   "execution_count": null,
   "metadata": {},
   "outputs": [],
   "source": [
    "#Check number of missing values\n",
    "df.isna().sum().sort_values(ascending=False)"
   ]
  },
  {
   "cell_type": "markdown",
   "metadata": {},
   "source": [
    "Given the high number of missing data for some features, we ran a more detailed analysis of missing values to look for potential patterns."
   ]
  },
  {
   "cell_type": "code",
   "execution_count": null,
   "metadata": {},
   "outputs": [],
   "source": [
    "msno.matrix(df, fontsize=10,labels=True)"
   ]
  },
  {
   "cell_type": "markdown",
   "metadata": {},
   "source": [
    "From the missingno matrix figure, it is clear that there is only missing data for the satellite data (with prefix ```L3```), not for the target or close-to-the-ground measurements. The amount of missing satellite data is  related to the type of pollutant, with only very sparse methane (```CHO4```) data."
   ]
  },
  {
   "cell_type": "code",
   "execution_count": null,
   "metadata": {},
   "outputs": [],
   "source": [
    "# plot percentage of missing instances with labels\n",
    "# from: https://stackoverflow.com/questions/69537383/how-to-plot-count-of-null-values-for-each-column-in-pandas-dataframe\n",
    "import matplotlib.pyplot as plt\n",
    "def plot_nas(df: pd.DataFrame):\n",
    "    if df.isnull().sum().sum() != 0:\n",
    "        na_df = (df.isnull().sum() / len(df)) * 100      \n",
    "        na_df = na_df.drop(na_df[na_df == 0].index).sort_values(ascending=False)\n",
    "        missing_data = pd.DataFrame({'Missing Ratio %' :na_df})\n",
    "        missing_data.plot(kind = \"barh\")\n",
    "        plt.show()\n",
    "    else:\n",
    "        print('No NAs found')\n",
    "plot_nas(df)\n",
    "plot_width, plot_height = (15,15)\n",
    "plt.rcParams['figure.figsize'] = (plot_width,plot_height)\n",
    "plt.rcParams['ytick.labelsize'] = 9"
   ]
  },
  {
   "cell_type": "markdown",
   "metadata": {},
   "source": [
    "Looking at the percentages of missing data, we are missing over 80% data for methane (```CH4```). We will remove these columns from the data frame. "
   ]
  },
  {
   "cell_type": "code",
   "execution_count": 14,
   "metadata": {},
   "outputs": [],
   "source": [
    "# create a copy for cleaned data\n",
    "df_clean = df.copy()"
   ]
  },
  {
   "cell_type": "code",
   "execution_count": 15,
   "metadata": {},
   "outputs": [],
   "source": [
    "# drop CH4 columns\n",
    "cols_ch4 = [col for col in df.columns if 'CH4' in col]\n",
    "df_clean.drop(columns=cols_ch4, axis=1, inplace=True)"
   ]
  },
  {
   "cell_type": "markdown",
   "metadata": {},
   "source": [
    "We also miss up to 25% for formaldehyde (```HCHO```) and sulferdioxide (```SO2```) and up to 20% for carbonmonoxide (```CO```), most nitrogen oxide measurements (```NO2```), cloud (```CLOUD```), ozone (```O3```), and aerosols (```AER```). Given the size of the dataset, we keep these features and impute missing data. "
   ]
  },
  {
   "cell_type": "markdown",
   "metadata": {},
   "source": [
    "# Inspect features"
   ]
  },
  {
   "cell_type": "markdown",
   "metadata": {},
   "source": [
    "Let's first create two plotting functions that can be run for each pollutant or category of features from the satellite data separately. "
   ]
  },
  {
   "cell_type": "code",
   "execution_count": null,
   "metadata": {},
   "outputs": [],
   "source": [
    "def pol_pairplot(pol_name, data, colors):\n",
    "    # This function creates a pair plot for all features belonging to \n",
    "    # one of the satellite pollutants in the input data frame, and \n",
    "    # color-codes the data points by the PM2.5 quality category.\n",
    "    col_names = [col for col in data.columns if pol_name in col]\n",
    "    col_names_target = col_names + ['target_cat']\n",
    "    p = sns.pairplot(data = data[col_names_target], hue=\"target_cat\", palette = colors, corner = True)\n",
    "    plt.show()\n",
    "\n",
    "def pol_confmat(pol_name, data):\n",
    "    # This function plots a correlation matrix for all features belonging to \n",
    "    # one of the satellite pollutants in the input data frame.\n",
    "    col_names = [col for col in data.columns if pol_name in col]\n",
    "    corr = df[col_names].corr()\n",
    "    matrix = np.triu(corr)\n",
    "    p = sns.heatmap(corr, annot=True, mask=matrix)\n",
    "    plt.show()"
   ]
  },
  {
   "cell_type": "code",
   "execution_count": null,
   "metadata": {},
   "outputs": [],
   "source": [
    "# Create pair plots for all features belonging to a single pollutant (for a list, see above),\n",
    "# color-coded by the air quality category. \n",
    "\n",
    "# Plot per feature: NO2, SO2, O3, CO, HCHO, AER, CLOUD\n",
    "#pol_pairplot('O3', df_clean, target_cat_colors)\n",
    "\n",
    "# Plot for each feature\n",
    "sat_features = [\"NO2\", \"SO2\", \"O3\", \"CO\", \"HCHO\", \"AER\", \"CLOUD\"] \n",
    "for feature in sat_features:\n",
    "    pol_pairplot(feature, df_clean, target_cat_colors)"
   ]
  },
  {
   "cell_type": "markdown",
   "metadata": {},
   "source": [
    "Based on the pair plots for each pollutant, we identified features that likely contain a bunch of outlying zero values. For these columns, we exclude the zeros to later impute them together with missing values.\n",
    "\n",
    "An alternative that we may want to explore at a later stage could be that these zero values stem from measurement error of the satellite, spanning multiple pollutants. Instances with unrealistic zeros spanning multiple pollutants may have to be removed altogether. "
   ]
  },
  {
   "cell_type": "code",
   "execution_count": null,
   "metadata": {},
   "outputs": [],
   "source": [
    "# For now, we removes the zero values that we have identified as outliers from the identified columns\n",
    "# These will be imputed when training out model\n",
    "variables_list_0_as_outlier = [\n",
    "    \"L3_NO2_NO2_column_number_density\",\n",
    "    \"L3_NO2_NO2_slant_column_number_density\",\n",
    "    \"L3_NO2_sensor_altitude\",\n",
    "    \"L3_NO2_tropopause_pressure\",\n",
    "    \"L3_NO2_solar_zenith_angle\",\n",
    "    \"L3_SO2_SO2_column_number_density\",\n",
    "    \"L3_SO2_SO2_column_number_density_amf\",\n",
    "    \"L3_SO2_SO2_slant_column_number_density\",\n",
    "    \"L3_SO2_solar_zenith_angle\",\n",
    "    \"L3_O3_O3_column_number_density\",\n",
    "    \"L3_O3_O3_effective_temperature\",\n",
    "    \"L3_O3_solar_zenith_angle\",\n",
    "    \"L3_CO_CO_column_number_density\",\n",
    "    \"L3_CO_sensor_altitude\",\n",
    "    \"L3_CO_solar_zenith_angle\",\n",
    "    \"L3_HCHO_solar_zenith_angle\",\n",
    "    \"L3_HCHO_tropospheric_HCHO_column_number_density_amf\"\n",
    "]\n",
    "df_clean[variables_list_0_as_outlier].replace(0, np.nan, inplace=True)"
   ]
  },
  {
   "cell_type": "code",
   "execution_count": null,
   "metadata": {},
   "outputs": [],
   "source": [
    "# Inspect correlations between features by pollutant\n",
    "sat_features = [\"NO2\", \"SO2\", \"O3\", \"CO\", \"HCHO\", \"AER\", \"CLOUD\"] \n",
    "for feature in sat_features:\n",
    "    pol_confmat(feature, df_clean)"
   ]
  },
  {
   "cell_type": "markdown",
   "metadata": {},
   "source": [
    "From the correlation matrices we can see that there are high correlations between certain features, in particular the angles of the satellite. For now, we keep also highly correlating features in. "
   ]
  },
  {
   "cell_type": "markdown",
   "metadata": {},
   "source": [
    "# Split data for modeling\n",
    "Note to self: this can be removed for the Zindi challenge, when we test the model trained on the full training data on the separate test data file!!"
   ]
  },
  {
   "cell_type": "code",
   "execution_count": 62,
   "metadata": {},
   "outputs": [],
   "source": [
    "df_split = df_clean.copy()"
   ]
  },
  {
   "cell_type": "code",
   "execution_count": 63,
   "metadata": {},
   "outputs": [],
   "source": [
    "y = df_split.pop(\"target\")"
   ]
  },
  {
   "cell_type": "code",
   "execution_count": 64,
   "metadata": {},
   "outputs": [],
   "source": [
    "# Split data (initially keep all features, also those that are not used in modeling)\n",
    "df_X_train, df_X_test, y_train, y_test = train_test_split(df_split, y, test_size=0.2, random_state=RSEED)"
   ]
  },
  {
   "cell_type": "code",
   "execution_count": 72,
   "metadata": {},
   "outputs": [],
   "source": [
    "# Create df_train and df_test for later inspection\n",
    "df_train = df_X_train.join(y_train)\n",
    "df_test = df_X_test.join(y_test)"
   ]
  },
  {
   "cell_type": "code",
   "execution_count": 84,
   "metadata": {},
   "outputs": [],
   "source": [
    "# Drop non-numerical and superfluous target columns from the features for modeling\n",
    "drop_features = ['Date', 'Place_ID', 'Place_ID X Date', 'target_min', 'target_max', 'target_variance', 'target_count', 'target_cat']\n",
    "X_train = df_X_train.drop(columns=drop_features, axis=1)\n",
    "X_test = df_X_test.drop(columns=drop_features, axis=1)"
   ]
  },
  {
   "cell_type": "markdown",
   "metadata": {},
   "source": [
    "# Model 1: XGBoost"
   ]
  },
  {
   "cell_type": "markdown",
   "metadata": {},
   "source": [
    "First, we will build our pipeline to run the XGBoost model. "
   ]
  },
  {
   "cell_type": "code",
   "execution_count": 94,
   "metadata": {},
   "outputs": [],
   "source": [
    "features = list(X_train.columns)\n",
    "\n",
    "num_pipeline = Pipeline([\n",
    "    ('imputer_num', KNNImputer()), #original: ```SimpleImputer(strategy='median')```\n",
    "    ('std_scaler', StandardScaler())\n",
    "])\n",
    "\n",
    "preprocessor = ColumnTransformer([\n",
    "    ('num', num_pipeline, features),\n",
    "])\n",
    "\n",
    "pipe_xgbreg = Pipeline([\n",
    "    ('preprocessor', preprocessor),\n",
    "    ('xgbreg', xgb.XGBRegressor())  \n",
    "    #eta = 0.1, n_estimators=50,max_depth=10, colsample_bytree=0.8, gamma=5,reg_alpha=0,reg_lambda=10 \n",
    "])"
   ]
  },
  {
   "cell_type": "markdown",
   "metadata": {},
   "source": [
    "Then we can fit the pipeline to the train data. "
   ]
  },
  {
   "cell_type": "code",
   "execution_count": 95,
   "metadata": {},
   "outputs": [
    {
     "data": {
      "text/html": [
       "<style>#sk-container-id-4 {color: black;background-color: white;}#sk-container-id-4 pre{padding: 0;}#sk-container-id-4 div.sk-toggleable {background-color: white;}#sk-container-id-4 label.sk-toggleable__label {cursor: pointer;display: block;width: 100%;margin-bottom: 0;padding: 0.3em;box-sizing: border-box;text-align: center;}#sk-container-id-4 label.sk-toggleable__label-arrow:before {content: \"▸\";float: left;margin-right: 0.25em;color: #696969;}#sk-container-id-4 label.sk-toggleable__label-arrow:hover:before {color: black;}#sk-container-id-4 div.sk-estimator:hover label.sk-toggleable__label-arrow:before {color: black;}#sk-container-id-4 div.sk-toggleable__content {max-height: 0;max-width: 0;overflow: hidden;text-align: left;background-color: #f0f8ff;}#sk-container-id-4 div.sk-toggleable__content pre {margin: 0.2em;color: black;border-radius: 0.25em;background-color: #f0f8ff;}#sk-container-id-4 input.sk-toggleable__control:checked~div.sk-toggleable__content {max-height: 200px;max-width: 100%;overflow: auto;}#sk-container-id-4 input.sk-toggleable__control:checked~label.sk-toggleable__label-arrow:before {content: \"▾\";}#sk-container-id-4 div.sk-estimator input.sk-toggleable__control:checked~label.sk-toggleable__label {background-color: #d4ebff;}#sk-container-id-4 div.sk-label input.sk-toggleable__control:checked~label.sk-toggleable__label {background-color: #d4ebff;}#sk-container-id-4 input.sk-hidden--visually {border: 0;clip: rect(1px 1px 1px 1px);clip: rect(1px, 1px, 1px, 1px);height: 1px;margin: -1px;overflow: hidden;padding: 0;position: absolute;width: 1px;}#sk-container-id-4 div.sk-estimator {font-family: monospace;background-color: #f0f8ff;border: 1px dotted black;border-radius: 0.25em;box-sizing: border-box;margin-bottom: 0.5em;}#sk-container-id-4 div.sk-estimator:hover {background-color: #d4ebff;}#sk-container-id-4 div.sk-parallel-item::after {content: \"\";width: 100%;border-bottom: 1px solid gray;flex-grow: 1;}#sk-container-id-4 div.sk-label:hover label.sk-toggleable__label {background-color: #d4ebff;}#sk-container-id-4 div.sk-serial::before {content: \"\";position: absolute;border-left: 1px solid gray;box-sizing: border-box;top: 0;bottom: 0;left: 50%;z-index: 0;}#sk-container-id-4 div.sk-serial {display: flex;flex-direction: column;align-items: center;background-color: white;padding-right: 0.2em;padding-left: 0.2em;position: relative;}#sk-container-id-4 div.sk-item {position: relative;z-index: 1;}#sk-container-id-4 div.sk-parallel {display: flex;align-items: stretch;justify-content: center;background-color: white;position: relative;}#sk-container-id-4 div.sk-item::before, #sk-container-id-4 div.sk-parallel-item::before {content: \"\";position: absolute;border-left: 1px solid gray;box-sizing: border-box;top: 0;bottom: 0;left: 50%;z-index: -1;}#sk-container-id-4 div.sk-parallel-item {display: flex;flex-direction: column;z-index: 1;position: relative;background-color: white;}#sk-container-id-4 div.sk-parallel-item:first-child::after {align-self: flex-end;width: 50%;}#sk-container-id-4 div.sk-parallel-item:last-child::after {align-self: flex-start;width: 50%;}#sk-container-id-4 div.sk-parallel-item:only-child::after {width: 0;}#sk-container-id-4 div.sk-dashed-wrapped {border: 1px dashed gray;margin: 0 0.4em 0.5em 0.4em;box-sizing: border-box;padding-bottom: 0.4em;background-color: white;}#sk-container-id-4 div.sk-label label {font-family: monospace;font-weight: bold;display: inline-block;line-height: 1.2em;}#sk-container-id-4 div.sk-label-container {text-align: center;}#sk-container-id-4 div.sk-container {/* jupyter's `normalize.less` sets `[hidden] { display: none; }` but bootstrap.min.css set `[hidden] { display: none !important; }` so we also need the `!important` here to be able to override the default hidden behavior on the sphinx rendered scikit-learn.org. See: https://github.com/scikit-learn/scikit-learn/issues/21755 */display: inline-block !important;position: relative;}#sk-container-id-4 div.sk-text-repr-fallback {display: none;}</style><div id=\"sk-container-id-4\" class=\"sk-top-container\"><div class=\"sk-text-repr-fallback\"><pre>Pipeline(steps=[(&#x27;preprocessor&#x27;,\n",
       "                 ColumnTransformer(transformers=[(&#x27;num&#x27;,\n",
       "                                                  Pipeline(steps=[(&#x27;imputer_num&#x27;,\n",
       "                                                                   KNNImputer()),\n",
       "                                                                  (&#x27;std_scaler&#x27;,\n",
       "                                                                   StandardScaler())]),\n",
       "                                                  [&#x27;precipitable_water_entire_atmosphere&#x27;,\n",
       "                                                   &#x27;relative_humidity_2m_above_ground&#x27;,\n",
       "                                                   &#x27;specific_humidity_2m_above_ground&#x27;,\n",
       "                                                   &#x27;temperature_2m_above_ground&#x27;,\n",
       "                                                   &#x27;u_component_of_wind_10m_above_ground&#x27;,\n",
       "                                                   &#x27;v_component_of_win...\n",
       "                              feature_types=None, gamma=None, gpu_id=None,\n",
       "                              grow_policy=None, importance_type=None,\n",
       "                              interaction_constraints=None, learning_rate=None,\n",
       "                              max_bin=None, max_cat_threshold=None,\n",
       "                              max_cat_to_onehot=None, max_delta_step=None,\n",
       "                              max_depth=None, max_leaves=None,\n",
       "                              min_child_weight=None, missing=nan,\n",
       "                              monotone_constraints=None, n_estimators=100,\n",
       "                              n_jobs=None, num_parallel_tree=None,\n",
       "                              predictor=None, random_state=None, ...))])</pre><b>In a Jupyter environment, please rerun this cell to show the HTML representation or trust the notebook. <br />On GitHub, the HTML representation is unable to render, please try loading this page with nbviewer.org.</b></div><div class=\"sk-container\" hidden><div class=\"sk-item sk-dashed-wrapped\"><div class=\"sk-label-container\"><div class=\"sk-label sk-toggleable\"><input class=\"sk-toggleable__control sk-hidden--visually\" id=\"sk-estimator-id-19\" type=\"checkbox\" ><label for=\"sk-estimator-id-19\" class=\"sk-toggleable__label sk-toggleable__label-arrow\">Pipeline</label><div class=\"sk-toggleable__content\"><pre>Pipeline(steps=[(&#x27;preprocessor&#x27;,\n",
       "                 ColumnTransformer(transformers=[(&#x27;num&#x27;,\n",
       "                                                  Pipeline(steps=[(&#x27;imputer_num&#x27;,\n",
       "                                                                   KNNImputer()),\n",
       "                                                                  (&#x27;std_scaler&#x27;,\n",
       "                                                                   StandardScaler())]),\n",
       "                                                  [&#x27;precipitable_water_entire_atmosphere&#x27;,\n",
       "                                                   &#x27;relative_humidity_2m_above_ground&#x27;,\n",
       "                                                   &#x27;specific_humidity_2m_above_ground&#x27;,\n",
       "                                                   &#x27;temperature_2m_above_ground&#x27;,\n",
       "                                                   &#x27;u_component_of_wind_10m_above_ground&#x27;,\n",
       "                                                   &#x27;v_component_of_win...\n",
       "                              feature_types=None, gamma=None, gpu_id=None,\n",
       "                              grow_policy=None, importance_type=None,\n",
       "                              interaction_constraints=None, learning_rate=None,\n",
       "                              max_bin=None, max_cat_threshold=None,\n",
       "                              max_cat_to_onehot=None, max_delta_step=None,\n",
       "                              max_depth=None, max_leaves=None,\n",
       "                              min_child_weight=None, missing=nan,\n",
       "                              monotone_constraints=None, n_estimators=100,\n",
       "                              n_jobs=None, num_parallel_tree=None,\n",
       "                              predictor=None, random_state=None, ...))])</pre></div></div></div><div class=\"sk-serial\"><div class=\"sk-item sk-dashed-wrapped\"><div class=\"sk-label-container\"><div class=\"sk-label sk-toggleable\"><input class=\"sk-toggleable__control sk-hidden--visually\" id=\"sk-estimator-id-20\" type=\"checkbox\" ><label for=\"sk-estimator-id-20\" class=\"sk-toggleable__label sk-toggleable__label-arrow\">preprocessor: ColumnTransformer</label><div class=\"sk-toggleable__content\"><pre>ColumnTransformer(transformers=[(&#x27;num&#x27;,\n",
       "                                 Pipeline(steps=[(&#x27;imputer_num&#x27;, KNNImputer()),\n",
       "                                                 (&#x27;std_scaler&#x27;,\n",
       "                                                  StandardScaler())]),\n",
       "                                 [&#x27;precipitable_water_entire_atmosphere&#x27;,\n",
       "                                  &#x27;relative_humidity_2m_above_ground&#x27;,\n",
       "                                  &#x27;specific_humidity_2m_above_ground&#x27;,\n",
       "                                  &#x27;temperature_2m_above_ground&#x27;,\n",
       "                                  &#x27;u_component_of_wind_10m_above_ground&#x27;,\n",
       "                                  &#x27;v_component_of_wind_10m_above_ground&#x27;,\n",
       "                                  &#x27;L3_NO2_NO2_...\n",
       "                                  &#x27;L3_NO2_tropospheric_NO2_column_number_density&#x27;,\n",
       "                                  &#x27;L3_O3_O3_column_number_density&#x27;,\n",
       "                                  &#x27;L3_O3_O3_effective_temperature&#x27;,\n",
       "                                  &#x27;L3_O3_cloud_fraction&#x27;,\n",
       "                                  &#x27;L3_O3_sensor_azimuth_angle&#x27;,\n",
       "                                  &#x27;L3_O3_sensor_zenith_angle&#x27;,\n",
       "                                  &#x27;L3_O3_solar_azimuth_angle&#x27;,\n",
       "                                  &#x27;L3_O3_solar_zenith_angle&#x27;,\n",
       "                                  &#x27;L3_CO_CO_column_number_density&#x27;,\n",
       "                                  &#x27;L3_CO_H2O_column_number_density&#x27;,\n",
       "                                  &#x27;L3_CO_cloud_height&#x27;, &#x27;L3_CO_sensor_altitude&#x27;,\n",
       "                                  &#x27;L3_CO_sensor_azimuth_angle&#x27;, ...])])</pre></div></div></div><div class=\"sk-parallel\"><div class=\"sk-parallel-item\"><div class=\"sk-item\"><div class=\"sk-label-container\"><div class=\"sk-label sk-toggleable\"><input class=\"sk-toggleable__control sk-hidden--visually\" id=\"sk-estimator-id-21\" type=\"checkbox\" ><label for=\"sk-estimator-id-21\" class=\"sk-toggleable__label sk-toggleable__label-arrow\">num</label><div class=\"sk-toggleable__content\"><pre>[&#x27;precipitable_water_entire_atmosphere&#x27;, &#x27;relative_humidity_2m_above_ground&#x27;, &#x27;specific_humidity_2m_above_ground&#x27;, &#x27;temperature_2m_above_ground&#x27;, &#x27;u_component_of_wind_10m_above_ground&#x27;, &#x27;v_component_of_wind_10m_above_ground&#x27;, &#x27;L3_NO2_NO2_column_number_density&#x27;, &#x27;L3_NO2_NO2_slant_column_number_density&#x27;, &#x27;L3_NO2_absorbing_aerosol_index&#x27;, &#x27;L3_NO2_cloud_fraction&#x27;, &#x27;L3_NO2_sensor_altitude&#x27;, &#x27;L3_NO2_sensor_azimuth_angle&#x27;, &#x27;L3_NO2_sensor_zenith_angle&#x27;, &#x27;L3_NO2_solar_azimuth_angle&#x27;, &#x27;L3_NO2_solar_zenith_angle&#x27;, &#x27;L3_NO2_stratospheric_NO2_column_number_density&#x27;, &#x27;L3_NO2_tropopause_pressure&#x27;, &#x27;L3_NO2_tropospheric_NO2_column_number_density&#x27;, &#x27;L3_O3_O3_column_number_density&#x27;, &#x27;L3_O3_O3_effective_temperature&#x27;, &#x27;L3_O3_cloud_fraction&#x27;, &#x27;L3_O3_sensor_azimuth_angle&#x27;, &#x27;L3_O3_sensor_zenith_angle&#x27;, &#x27;L3_O3_solar_azimuth_angle&#x27;, &#x27;L3_O3_solar_zenith_angle&#x27;, &#x27;L3_CO_CO_column_number_density&#x27;, &#x27;L3_CO_H2O_column_number_density&#x27;, &#x27;L3_CO_cloud_height&#x27;, &#x27;L3_CO_sensor_altitude&#x27;, &#x27;L3_CO_sensor_azimuth_angle&#x27;, &#x27;L3_CO_sensor_zenith_angle&#x27;, &#x27;L3_CO_solar_azimuth_angle&#x27;, &#x27;L3_CO_solar_zenith_angle&#x27;, &#x27;L3_HCHO_HCHO_slant_column_number_density&#x27;, &#x27;L3_HCHO_cloud_fraction&#x27;, &#x27;L3_HCHO_sensor_azimuth_angle&#x27;, &#x27;L3_HCHO_sensor_zenith_angle&#x27;, &#x27;L3_HCHO_solar_azimuth_angle&#x27;, &#x27;L3_HCHO_solar_zenith_angle&#x27;, &#x27;L3_HCHO_tropospheric_HCHO_column_number_density&#x27;, &#x27;L3_HCHO_tropospheric_HCHO_column_number_density_amf&#x27;, &#x27;L3_CLOUD_cloud_base_height&#x27;, &#x27;L3_CLOUD_cloud_base_pressure&#x27;, &#x27;L3_CLOUD_cloud_fraction&#x27;, &#x27;L3_CLOUD_cloud_optical_depth&#x27;, &#x27;L3_CLOUD_cloud_top_height&#x27;, &#x27;L3_CLOUD_cloud_top_pressure&#x27;, &#x27;L3_CLOUD_sensor_azimuth_angle&#x27;, &#x27;L3_CLOUD_sensor_zenith_angle&#x27;, &#x27;L3_CLOUD_solar_azimuth_angle&#x27;, &#x27;L3_CLOUD_solar_zenith_angle&#x27;, &#x27;L3_CLOUD_surface_albedo&#x27;, &#x27;L3_AER_AI_absorbing_aerosol_index&#x27;, &#x27;L3_AER_AI_sensor_altitude&#x27;, &#x27;L3_AER_AI_sensor_azimuth_angle&#x27;, &#x27;L3_AER_AI_sensor_zenith_angle&#x27;, &#x27;L3_AER_AI_solar_azimuth_angle&#x27;, &#x27;L3_AER_AI_solar_zenith_angle&#x27;, &#x27;L3_SO2_SO2_column_number_density&#x27;, &#x27;L3_SO2_SO2_column_number_density_amf&#x27;, &#x27;L3_SO2_SO2_slant_column_number_density&#x27;, &#x27;L3_SO2_absorbing_aerosol_index&#x27;, &#x27;L3_SO2_cloud_fraction&#x27;, &#x27;L3_SO2_sensor_azimuth_angle&#x27;, &#x27;L3_SO2_sensor_zenith_angle&#x27;, &#x27;L3_SO2_solar_azimuth_angle&#x27;, &#x27;L3_SO2_solar_zenith_angle&#x27;]</pre></div></div></div><div class=\"sk-serial\"><div class=\"sk-item\"><div class=\"sk-serial\"><div class=\"sk-item\"><div class=\"sk-estimator sk-toggleable\"><input class=\"sk-toggleable__control sk-hidden--visually\" id=\"sk-estimator-id-22\" type=\"checkbox\" ><label for=\"sk-estimator-id-22\" class=\"sk-toggleable__label sk-toggleable__label-arrow\">KNNImputer</label><div class=\"sk-toggleable__content\"><pre>KNNImputer()</pre></div></div></div><div class=\"sk-item\"><div class=\"sk-estimator sk-toggleable\"><input class=\"sk-toggleable__control sk-hidden--visually\" id=\"sk-estimator-id-23\" type=\"checkbox\" ><label for=\"sk-estimator-id-23\" class=\"sk-toggleable__label sk-toggleable__label-arrow\">StandardScaler</label><div class=\"sk-toggleable__content\"><pre>StandardScaler()</pre></div></div></div></div></div></div></div></div></div></div><div class=\"sk-item\"><div class=\"sk-estimator sk-toggleable\"><input class=\"sk-toggleable__control sk-hidden--visually\" id=\"sk-estimator-id-24\" type=\"checkbox\" ><label for=\"sk-estimator-id-24\" class=\"sk-toggleable__label sk-toggleable__label-arrow\">XGBRegressor</label><div class=\"sk-toggleable__content\"><pre>XGBRegressor(base_score=None, booster=None, callbacks=None,\n",
       "             colsample_bylevel=None, colsample_bynode=None,\n",
       "             colsample_bytree=None, early_stopping_rounds=None,\n",
       "             enable_categorical=False, eval_metric=None, feature_types=None,\n",
       "             gamma=None, gpu_id=None, grow_policy=None, importance_type=None,\n",
       "             interaction_constraints=None, learning_rate=None, max_bin=None,\n",
       "             max_cat_threshold=None, max_cat_to_onehot=None,\n",
       "             max_delta_step=None, max_depth=None, max_leaves=None,\n",
       "             min_child_weight=None, missing=nan, monotone_constraints=None,\n",
       "             n_estimators=100, n_jobs=None, num_parallel_tree=None,\n",
       "             predictor=None, random_state=None, ...)</pre></div></div></div></div></div></div></div>"
      ],
      "text/plain": [
       "Pipeline(steps=[('preprocessor',\n",
       "                 ColumnTransformer(transformers=[('num',\n",
       "                                                  Pipeline(steps=[('imputer_num',\n",
       "                                                                   KNNImputer()),\n",
       "                                                                  ('std_scaler',\n",
       "                                                                   StandardScaler())]),\n",
       "                                                  ['precipitable_water_entire_atmosphere',\n",
       "                                                   'relative_humidity_2m_above_ground',\n",
       "                                                   'specific_humidity_2m_above_ground',\n",
       "                                                   'temperature_2m_above_ground',\n",
       "                                                   'u_component_of_wind_10m_above_ground',\n",
       "                                                   'v_component_of_win...\n",
       "                              feature_types=None, gamma=None, gpu_id=None,\n",
       "                              grow_policy=None, importance_type=None,\n",
       "                              interaction_constraints=None, learning_rate=None,\n",
       "                              max_bin=None, max_cat_threshold=None,\n",
       "                              max_cat_to_onehot=None, max_delta_step=None,\n",
       "                              max_depth=None, max_leaves=None,\n",
       "                              min_child_weight=None, missing=nan,\n",
       "                              monotone_constraints=None, n_estimators=100,\n",
       "                              n_jobs=None, num_parallel_tree=None,\n",
       "                              predictor=None, random_state=None, ...))])"
      ]
     },
     "execution_count": 95,
     "metadata": {},
     "output_type": "execute_result"
    }
   ],
   "source": [
    "pipe_xgbreg.fit(X_train, y_train)"
   ]
  },
  {
   "cell_type": "markdown",
   "metadata": {},
   "source": [
    "Predict the target from the train data. "
   ]
  },
  {
   "cell_type": "code",
   "execution_count": 96,
   "metadata": {},
   "outputs": [],
   "source": [
    "y_pred_train = pipe_xgbreg.predict(X_train)"
   ]
  },
  {
   "cell_type": "markdown",
   "metadata": {},
   "source": [
    "And evaluate its fit."
   ]
  },
  {
   "cell_type": "code",
   "execution_count": 97,
   "metadata": {},
   "outputs": [
    {
     "name": "stdout",
     "output_type": "stream",
     "text": [
      "MAE for the train data: 13.30.\n"
     ]
    }
   ],
   "source": [
    "mae = mean_absolute_error(y_train, y_pred_train)\n",
    "print(f\"MAE for the train data: {mae:.2f}.\")"
   ]
  },
  {
   "cell_type": "markdown",
   "metadata": {},
   "source": [
    "# Model optimization through grid search "
   ]
  },
  {
   "cell_type": "markdown",
   "metadata": {},
   "source": [
    "Define the different parameters to try out."
   ]
  },
  {
   "cell_type": "code",
   "execution_count": 99,
   "metadata": {},
   "outputs": [],
   "source": [
    "param_xgbreg_rand = {\n",
    "              'xgbreg__n_estimators': [50, 100, 200],\n",
    "              'xgbreg__learning_rate': [0.05, 0.1, 0.2, 0.3], \n",
    "              'xgbreg__max_depth': [5, 7, 9],\n",
    "              'xgbreg__colsample_bytree': [0.8],\n",
    "              'xgbreg__gamma': [5],\n",
    "              'xgbreg__reg_alpha': [0],\n",
    "              'xgbreg__reg_lambda': [10]\n",
    "            }"
   ]
  },
  {
   "cell_type": "markdown",
   "metadata": {},
   "source": [
    "First run randomized grid search on a wide range of parameters."
   ]
  },
  {
   "cell_type": "code",
   "execution_count": 100,
   "metadata": {},
   "outputs": [],
   "source": [
    "rand_search_xbreg = RandomizedSearchCV(pipe_xgbreg, param_distributions=param_xgbreg_rand, cv=5, scoring='neg_mean_absolute_error', \n",
    "                                         verbose=1, n_jobs=-1, n_iter=10)"
   ]
  },
  {
   "cell_type": "code",
   "execution_count": null,
   "metadata": {},
   "outputs": [],
   "source": [
    "rand_search_xbreg.fit(X_train, y_train)"
   ]
  },
  {
   "cell_type": "markdown",
   "metadata": {},
   "source": [
    "Evaluate best model"
   ]
  },
  {
   "cell_type": "code",
   "execution_count": null,
   "metadata": {},
   "outputs": [],
   "source": [
    "rand_search_xbreg.best_params_, random_search_xbreg.best_score_"
   ]
  },
  {
   "cell_type": "markdown",
   "metadata": {},
   "source": [
    "Update grid for full grid search."
   ]
  },
  {
   "cell_type": "code",
   "execution_count": null,
   "metadata": {},
   "outputs": [],
   "source": [
    "param_xgbreg_grid = {\n",
    "              'xgbreg__n_estimators': [25, 50, 75, 100],\n",
    "              'xgbreg__learning_rate': [0.05, 0.1, 0.2, 0.3], \n",
    "              'xgbreg__max_depth': [5, 7, 9],\n",
    "              'xgbreg__colsample_bytree': [0.8],\n",
    "              'xgbreg__gamma': [5],\n",
    "              'xgbreg__reg_alpha': [0],\n",
    "              'xgbreg__reg_lambda': [10]\n",
    "            }"
   ]
  },
  {
   "cell_type": "code",
   "execution_count": null,
   "metadata": {},
   "outputs": [],
   "source": [
    "#param_xgbreg_grid = {\n",
    "            #   'xgbreg__n_estimators': [50],\n",
    "            #   'xgbreg__learning_rate': [0.1], \n",
    "            #   'xgbreg__max_depth': [10],\n",
    "            #   'xgbreg__colsample_bytree': [0.8],\n",
    "            #   'xgbreg__gamma': [5],\n",
    "            #   'xgbreg__reg_alpha': [0],\n",
    "            #   'xgbreg__reg_lambda': [10]\n",
    "            # }\n"
   ]
  },
  {
   "cell_type": "code",
   "execution_count": null,
   "metadata": {},
   "outputs": [],
   "source": [
    "grid_search_xbreg = GridSearchCV(pipe_xgbreg, param_grid=param_xgbreg_grid, cv=5, scoring='neg_mean_absolute_error', \n",
    "                           verbose=1, n_jobs=-1)"
   ]
  },
  {
   "cell_type": "code",
   "execution_count": null,
   "metadata": {},
   "outputs": [],
   "source": [
    "grid_search_xbreg.fit(X_train, y_train)"
   ]
  },
  {
   "cell_type": "markdown",
   "metadata": {},
   "source": [
    "Evaluate grid search. "
   ]
  },
  {
   "cell_type": "code",
   "execution_count": null,
   "metadata": {},
   "outputs": [],
   "source": [
    "grid_search_xbreg.best_params_, grid_search_xbreg.best_score_"
   ]
  },
  {
   "cell_type": "code",
   "execution_count": 10,
   "metadata": {},
   "outputs": [],
   "source": [
    "# best_model = grid_search_xbreg.best_estimator_\n",
    "# y_test_predicted_grid = best_model.predict(X_test)\n",
    "# y_train_predicted_grid = best_model.predict(X_train)\n",
    "\n",
    "# print(\"mean_absolute_error: {:.2f}\".format(mean_absolute_error(y_test, y_test_predicted_grid)))\n",
    "# print(\"mean_absolute_error_train: {:.2f}\".format(mean_absolute_error(y_train, y_train_predicted_grid)))"
   ]
  },
  {
   "cell_type": "markdown",
   "metadata": {},
   "source": [
    "# Error Analyse"
   ]
  },
  {
   "cell_type": "code",
   "execution_count": 11,
   "metadata": {},
   "outputs": [],
   "source": [
    "error = np.abs(y_pred_train - y_train)"
   ]
  },
  {
   "cell_type": "code",
   "execution_count": 12,
   "metadata": {},
   "outputs": [],
   "source": [
    "\n",
    "\n",
    "df_erroranalyse = X_train.copy()\n",
    "df_erroranalyse['y_true'] = y_train\n",
    "df_erroranalyse['y_pred'] = y_pred_train\n",
    "df_erroranalyse['abs_error'] = error\n",
    "df_erroranalyse[\"rel_error\"] = error/y_pred_train#df_erroranalyse[\"y_true\"]"
   ]
  },
  {
   "cell_type": "code",
   "execution_count": 13,
   "metadata": {},
   "outputs": [],
   "source": [
    "df_erroranalyse.fillna(df.median(),inplace=True)"
   ]
  },
  {
   "cell_type": "code",
   "execution_count": 14,
   "metadata": {},
   "outputs": [],
   "source": [
    "top_fehler = df_erroranalyse.sort_values(by='abs_error', ascending=False).head(10)\n"
   ]
  },
  {
   "cell_type": "code",
   "execution_count": 17,
   "metadata": {},
   "outputs": [],
   "source": [
    "best_model = grid_search_xbreg.best_estimator_\n",
    "reg = best_model.named_steps['xgbreg']\n",
    "importances = reg.feature_importances_\n",
    "feature_names = X_train.columns\n",
    "\n",
    "best_feature=list(feature_names[importances>0.04])\n",
    "lst=['y_true','y_pred','abs_error','rel_error']\n",
    "best_feature.extend(lst)\n",
    "\n",
    "# best_feature\n",
    "\n",
    "# sns.pairplot(data=df_erroranalyse[best_feature])\n"
   ]
  },
  {
   "cell_type": "code",
   "execution_count": 98,
   "metadata": {},
   "outputs": [
    {
     "name": "stdout",
     "output_type": "stream",
     "text": [
      "TEST: RMSE: 30.89, MAE: 20.88, R²: 0.566\n",
      "train: RMSE: 18.12, MAE: 13.30, R²: 0.850\n"
     ]
    }
   ],
   "source": [
    "#Old, do we still need this? y_pred_test = pipe_xgbreg.predict(X_test)\n",
    "y_pred_test = pipe_xgbreg.predict(X_test)\n",
    "\n",
    "mse_test = mean_squared_error(y_test, y_pred_test)\n",
    "rmse_test = mse_test ** 0.5\n",
    "mae_test = mean_absolute_error(y_test, y_pred_test)\n",
    "r2_test = r2_score(y_test, y_pred_test)\n",
    "\n",
    "mse = mean_squared_error(y_train, y_pred_train)\n",
    "rmse = mse ** 0.5\n",
    "mae = mean_absolute_error(y_train, y_pred_train)\n",
    "r2 = r2_score(y_train, y_pred_train)\n",
    "              \n",
    "            \n",
    "print(f\"TEST: RMSE: {rmse_test:.2f}, MAE: {mae_test:.2f}, R²: {r2_test:.3f}\")\n",
    "print(f\"train: RMSE: {rmse:.2f}, MAE: {mae:.2f}, R²: {r2:.3f}\")"
   ]
  },
  {
   "cell_type": "markdown",
   "metadata": {},
   "source": [
    "## JULIAs Add"
   ]
  },
  {
   "cell_type": "code",
   "execution_count": 18,
   "metadata": {},
   "outputs": [
    {
     "data": {
      "image/png": "[encoded data removed]",
      "text/plain": [
       "<Figure size 1000x400 with 1 Axes>"
      ]
     },
     "metadata": {},
     "output_type": "display_data"
    }
   ],
   "source": [
    "#from violinplot import plot_hist\n",
    "\n",
    "\n",
    "colors = ['#64a03c', '#eac51c', '#d67900', '#a90738', '#4f051e']\n",
    "\n",
    "df_for_violinplot = df_erroranalyse.copy()\n",
    "bins = [0, 12.5, 25, 50, 150, np.inf]\n",
    "health_cat = ['good', 'fair','poor','very poor','extremely poor']\n",
    "df_for_violinplot['target_cat'] = pd.cut(df['target'], bins, labels = health_cat)\n",
    "df_for_violinplot['target_cat_pred'] = pd.cut(df_for_violinplot['y_pred'], bins, labels = health_cat)\n",
    "\n",
    "error_per_cathegory = df_for_violinplot.groupby('target_cat')['rel_error'].mean()\n",
    "error_per_cathegory_pred = df_for_violinplot.groupby('target_cat_pred')['rel_error'].mean()\n",
    "\n",
    "\n",
    "# error_per_cathegory.plot(kind='bar', figsize=(10, 4), color=colors)\n",
    "error_per_cathegory_pred.plot(kind='bar', figsize=(10, 4), color=colors)\n",
    "\n",
    "plt.xlabel('Category of real PM2.5 values')\n",
    "plt.ylabel('Relative Error')\n",
    "\n",
    "\n",
    "plt.subplots_adjust(hspace=2.4)  \n",
    "\n",
    "\n",
    "\n",
    "# df_errors = pd.DataFrame({\n",
    "#     'true cat': error_per_cathegory,\n",
    "#     'predicted cat': error_per_cathegory_pred\n",
    "# })\n",
    "# df_errors = df_errors.sort_index()\n",
    "# df_errors.plot(kind='bar', figsize=(12, 5), color=['#2EA8FF', '#2DFFCC'])\n",
    "\n"
   ]
  },
  {
   "cell_type": "code",
   "execution_count": 19,
   "metadata": {},
   "outputs": [
    {
     "data": {
      "text/plain": [
       "Text(0, 0.5, 'target')"
      ]
     },
     "execution_count": 19,
     "metadata": {},
     "output_type": "execute_result"
    },
    {
     "data": {
      "image/png": "[encoded data removed]",
      "text/plain": [
       "<Figure size 1000x400 with 1 Axes>"
      ]
     },
     "metadata": {},
     "output_type": "display_data"
    }
   ],
   "source": [
    "plt.figure(figsize=(12, 6))\n",
    "\n",
    "sns.violinplot(x='target_cat_pred', y='y_true', data=df_for_violinplot, palette=colors)\n",
    "# sns.violinplot(x='target_cat', y='y_pred', data=df_for_violinplot, palette=colors)\n",
    "\n",
    "error_per_cathegory_pred.plot(kind='bar', figsize=(10, 4), color=colors)\n",
    "\n",
    "\n",
    "plt.ylim(-10, 400)\n",
    "plt.xlabel('Cathegory')\n",
    "plt.ylabel('target')\n"
   ]
  },
  {
   "cell_type": "code",
   "execution_count": 20,
   "metadata": {},
   "outputs": [
    {
     "data": {
      "text/plain": [
       "Text(0, 0.5, 'True PM2.5 concentration')"
      ]
     },
     "execution_count": 20,
     "metadata": {},
     "output_type": "execute_result"
    },
    {
     "data": {
      "image/png": "[encoded data removed]",
      "text/plain": [
       "<Figure size 1200x600 with 1 Axes>"
      ]
     },
     "metadata": {},
     "output_type": "display_data"
    }
   ],
   "source": [
    "mean_y_true_per_category = df_for_violinplot.groupby('target_cat_pred')['y_true'].mean()\n",
    "\n",
    "\n",
    "plt.figure(figsize=(12, 6))\n",
    "\n",
    "for i, y_value in enumerate([12.5, 25, 50, 100, 150]):\n",
    "    plt.axhline(y=y_value, color=colors[i], linestyle='--', linewidth=1, zorder=0)  \n",
    "    \n",
    "sns.barplot(x=mean_y_true_per_category.index, y=mean_y_true_per_category.values, palette=colors)\n",
    "\n",
    "plt.xlabel('Predicted PM2.5 Air Quality')\n",
    "plt.ylabel('True PM2.5 concentration')\n",
    "\n"
   ]
  },
  {
   "cell_type": "code",
   "execution_count": 21,
   "metadata": {},
   "outputs": [
    {
     "data": {
      "text/plain": [
       "Text(0.5, 0, 'Importance')"
      ]
     },
     "execution_count": 21,
     "metadata": {},
     "output_type": "execute_result"
    },
    {
     "data": {
      "image/png": "[encoded data removed]",
      "text/plain": [
       "<Figure size 1000x600 with 1 Axes>"
      ]
     },
     "metadata": {},
     "output_type": "display_data"
    }
   ],
   "source": [
    "filtered_feature_names = feature_names[importances > 0.04]\n",
    "filtered_importances = importances[importances > 0.04]\n",
    "\n",
    "sorted_indices = np.argsort(filtered_importances)[::-1]  \n",
    "sorted_feature_names = filtered_feature_names[sorted_indices]\n",
    "sorted_importances = filtered_importances[sorted_indices]\n",
    "\n",
    "\n",
    "plt.figure(figsize=(10, 6))\n",
    "sns.barplot(x=sorted_importances, y=sorted_feature_names, palette=['#2EA8FF'])\n",
    "\n",
    "# Titel hinzufügen\n",
    "plt.xlabel(\"Importance\")\n"
   ]
  }
 ],
 "metadata": {
  "kernelspec": {
   "display_name": ".venv",
   "language": "python",
   "name": "python3"
  },
  "language_info": {
   "codemirror_mode": {
    "name": "ipython",
    "version": 3
   },
   "file_extension": ".py",
   "mimetype": "text/x-python",
   "name": "python",
   "nbconvert_exporter": "python",
   "pygments_lexer": "ipython3",
   "version": "3.11.3"
  }
 },
 "nbformat": 4,
 "nbformat_minor": 2
}
